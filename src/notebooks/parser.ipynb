{
 "cells": [
  {
   "cell_type": "code",
   "execution_count": null,
   "metadata": {},
   "outputs": [],
   "source": [
    "import expression\n",
    "import tokenizer\n",
    "\n",
    "from numbers import Number"
   ]
  },
  {
   "cell_type": "code",
   "execution_count": 58,
   "metadata": {},
   "outputs": [],
   "source": [
    "def bracket_check(tokens: list[str]) -> bool:\n",
    "    op, cl = 0, 0\n",
    "    for token in tokens:\n",
    "        if token == \"(\":\n",
    "            op += 1\n",
    "        elif token == \")\":\n",
    "            cl += 1\n",
    "        if cl > op:\n",
    "            return False\n",
    "    if op != cl:\n",
    "        return False\n",
    "\n",
    "    return True"
   ]
  },
  {
   "cell_type": "code",
   "execution_count": 51,
   "metadata": {},
   "outputs": [],
   "source": [
    "symbols_lookup = {\n",
    "    \"+\": (expression.Addition, 2),\n",
    "    \"<\": (expression.LT, 2),\n",
    "    \"IfThenElse\": (expression.IfThenElse, 3),\n",
    "}"
   ]
  },
  {
   "cell_type": "code",
   "execution_count": 52,
   "metadata": {},
   "outputs": [],
   "source": [
    "def cast_string_to_scalar(s: str) -> Number | None:\n",
    "    def _scalar_string_cast(s: str) -> int | float | bool:\n",
    "        if s.lower() in (\"true\", \"false\"):\n",
    "            return bool(s)\n",
    "        elif \".\" in s.lower():\n",
    "            return float(s)\n",
    "        else:\n",
    "            return int(s)\n",
    "\n",
    "    try:\n",
    "        return _scalar_string_cast(s)\n",
    "    except ValueError:\n",
    "        return None"
   ]
  },
  {
   "cell_type": "code",
   "execution_count": 53,
   "metadata": {},
   "outputs": [],
   "source": [
    "def parse_tokens(tokens: list[str]) -> expression.Expression | None:\n",
    "    assert tokens[0] == \"(\" and tokens[-1] == \")\", \"Expected expression wrapped in ()\"\n",
    "    tokens = tokens[1:-1]\n",
    "\n",
    "    # Handle atomic values\n",
    "    if len(tokens) == 1:\n",
    "        val = cast_string_to_scalar(tokens[0])\n",
    "        if val is None:\n",
    "            return None\n",
    "        if isinstance(val, bool):\n",
    "            return expression.Boolean(val)\n",
    "        else:\n",
    "            return expression.Constant(val)\n",
    "\n",
    "    # Handle compound expression\n",
    "    symbol = tokens[0]\n",
    "    op_class, arity = symbols_lookup.get(symbol, (None, None))\n",
    "    if op_class is None:\n",
    "        return None\n",
    "\n",
    "    args = []\n",
    "    i = 1\n",
    "    while i < len(tokens):\n",
    "        if tokens[i] == \"(\":\n",
    "            # find matching closing paren\n",
    "            depth = 1\n",
    "            j = i + 1\n",
    "            while j < len(tokens) and depth > 0:\n",
    "                if tokens[j] == \"(\":\n",
    "                    depth += 1\n",
    "                elif tokens[j] == \")\":\n",
    "                    depth -= 1\n",
    "                j += 1\n",
    "            subexpr = tokens[i:j]\n",
    "            parsed = parse_tokens(subexpr)\n",
    "            if parsed is None:\n",
    "                return None\n",
    "            args.append(parsed)\n",
    "            i = j\n",
    "        else:\n",
    "            val = cast_string_to_scalar(tokens[i])\n",
    "            if val is None:\n",
    "                return None\n",
    "            if isinstance(val, bool):\n",
    "                args.append(expression.Boolean(val))\n",
    "            else:\n",
    "                args.append(expression.Constant(val))\n",
    "            i += 1\n",
    "\n",
    "    if len(args) != arity:\n",
    "        return None\n",
    "\n",
    "    return op_class(*args)"
   ]
  },
  {
   "cell_type": "code",
   "execution_count": 59,
   "metadata": {},
   "outputs": [
    {
     "data": {
      "text/plain": [
       "['(', 'IfThenElse', '(', 'LT', '2', '1', ')', '1', '42', ')']"
      ]
     },
     "execution_count": 59,
     "metadata": {},
     "output_type": "execute_result"
    }
   ],
   "source": [
    "test_input = \"(IfThenElse (LT 2  1) 1 42)\"\n",
    "tokens = tokenizer.tokenize_to_list(test_input)\n",
    "assert bracket_check(tokens)\n",
    "tokens"
   ]
  },
  {
   "cell_type": "code",
   "execution_count": null,
   "metadata": {},
   "outputs": [
    {
     "name": "stdout",
     "output_type": "stream",
     "text": [
      "None\n"
     ]
    }
   ],
   "source": [
    "print(parse_tokens(tokens))  # -> return None"
   ]
  }
 ],
 "metadata": {
  "kernelspec": {
   "display_name": "pyLispVenv",
   "language": "python",
   "name": "python3"
  },
  "language_info": {
   "codemirror_mode": {
    "name": "ipython",
    "version": 3
   },
   "file_extension": ".py",
   "mimetype": "text/x-python",
   "name": "python",
   "nbconvert_exporter": "python",
   "pygments_lexer": "ipython3",
   "version": "3.13.2"
  }
 },
 "nbformat": 4,
 "nbformat_minor": 2
}
