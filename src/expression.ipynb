{
 "cells": [
  {
   "cell_type": "code",
   "execution_count": 5,
   "metadata": {},
   "outputs": [],
   "source": [
    "from abc import ABC, abstractmethod\n",
    "from numbers import Number"
   ]
  },
  {
   "cell_type": "code",
   "execution_count": null,
   "metadata": {},
   "outputs": [],
   "source": [
    "class Expression(ABC):\n",
    "    @abstractmethod\n",
    "    def eval(self) -> Number:\n",
    "        pass"
   ]
  },
  {
   "cell_type": "code",
   "execution_count": 6,
   "metadata": {},
   "outputs": [],
   "source": [
    "class Scalar(Expression):\n",
    "    def __str__(self) -> str:\n",
    "        return str(self._buf)\n",
    "\n",
    "    def __repr__(self) -> str:\n",
    "        return str(self)\n",
    "\n",
    "\n",
    "class Boolean(Scalar):\n",
    "    def __init__(self, val: bool) -> None:\n",
    "        self._buf = val\n",
    "\n",
    "    def eval(self) -> bool:\n",
    "        return self._buf\n",
    "\n",
    "\n",
    "class Constant(Scalar):\n",
    "    def __init__(self, val: int | float) -> None:\n",
    "        self._buf = val\n",
    "\n",
    "    def eval(self) -> int | float:\n",
    "        return self._buf"
   ]
  },
  {
   "cell_type": "code",
   "execution_count": null,
   "metadata": {},
   "outputs": [],
   "source": [
    "class BinaryOperator(Expression):\n",
    "    def __init__(self, lhs: Expression, rhs: Expression) -> None:\n",
    "        self.lhs = lhs\n",
    "        self.rhs = rhs\n",
    "\n",
    "    @abstractmethod\n",
    "    def operator_symbol() -> str:\n",
    "        pass\n",
    "\n",
    "    def __repr__(self) -> str:\n",
    "        return f\"{self.operator_symbol()} {self.lhs} {self.rhs}\"\n",
    "\n",
    "    def __str__(self) -> str:  # called for print\n",
    "        return f\"({self.lhs} {self.operator_symbol()} {self.rhs})\"\n",
    "\n",
    "\n",
    "class Addition(BinaryOperator):\n",
    "    def __init__(self, lhs: Expression, rhs: Expression):\n",
    "        super().__init__(lhs, rhs)\n",
    "\n",
    "    @staticmethod\n",
    "    def operator_symbol() -> str:\n",
    "        return \"+\"\n",
    "\n",
    "    def eval(self) -> Number:\n",
    "        return self.lhs.eval() + self.rhs.eval()\n",
    "\n",
    "    def __repr__(self) -> str:\n",
    "        return f\"({super().__str__()})\"\n",
    "\n",
    "\n",
    "class LT(BinaryOperator):\n",
    "    def __init__(self, lhs: Expression, rhs: Expression):\n",
    "        super().__init__(lhs, rhs)\n",
    "\n",
    "    @staticmethod\n",
    "    def operator_symbol() -> str:\n",
    "        return \"<\"\n",
    "\n",
    "    def eval(self) -> Boolean:\n",
    "        return Boolean(self.lhs.eval() < self.rhs.eval())\n",
    "\n",
    "    def __repr__(self) -> str:\n",
    "        return f\"({super().__str__()})\""
   ]
  },
  {
   "cell_type": "code",
   "execution_count": null,
   "metadata": {},
   "outputs": [],
   "source": [
    "EvaluatesToBool = Boolean | LT\n",
    "\n",
    "\n",
    "class TernaryOperator(Expression):\n",
    "    def __init__(\n",
    "        self, fst: Expression | LT, scnd: Expression, thrd: Expression\n",
    "    ) -> None:\n",
    "        self.fst = fst\n",
    "        self.scnd = scnd\n",
    "        self.thrd = thrd\n",
    "\n",
    "    @abstractmethod\n",
    "    def operator_symbol() -> str:\n",
    "        pass\n",
    "\n",
    "\n",
    "class IfThenElse(BinaryOperator):\n",
    "    pass"
   ]
  },
  {
   "cell_type": "code",
   "execution_count": 37,
   "metadata": {},
   "outputs": [
    {
     "name": "stdout",
     "output_type": "stream",
     "text": [
      "(2 + 4)\n"
     ]
    },
    {
     "data": {
      "text/plain": [
       "((2 + 4))"
      ]
     },
     "execution_count": 37,
     "metadata": {},
     "output_type": "execute_result"
    }
   ],
   "source": [
    "add = Addition(Constant(2), Constant(4))\n",
    "print(add)\n",
    "add"
   ]
  },
  {
   "cell_type": "code",
   "execution_count": 46,
   "metadata": {},
   "outputs": [
    {
     "data": {
      "text/plain": [
       "False"
      ]
     },
     "execution_count": 46,
     "metadata": {},
     "output_type": "execute_result"
    }
   ],
   "source": [
    "LT(add, Constant(6)).eval().eval()"
   ]
  }
 ],
 "metadata": {
  "kernelspec": {
   "display_name": "pyLispVenv",
   "language": "python",
   "name": "python3"
  },
  "language_info": {
   "codemirror_mode": {
    "name": "ipython",
    "version": 3
   },
   "file_extension": ".py",
   "mimetype": "text/x-python",
   "name": "python",
   "nbconvert_exporter": "python",
   "pygments_lexer": "ipython3",
   "version": "3.13.2"
  }
 },
 "nbformat": 4,
 "nbformat_minor": 2
}
